{
 "cells": [
  {
   "cell_type": "markdown",
   "id": "40282a82-7b3d-4ba2-bd7c-00518b457229",
   "metadata": {},
   "source": [
    "# PROYECTO IA- NORTE SUR GLOBAL 1"
   ]
  },
  {
   "cell_type": "code",
   "execution_count": 7,
   "id": "3cc634e5-e30b-46f9-aa85-c2c3a4a43146",
   "metadata": {},
   "outputs": [],
   "source": [
    "# Importar librerías\n",
    "\n",
    "import pandas as pd\n",
    "import matplotlib.pyplot as plt\n",
    "import seaborn as sns"
   ]
  },
  {
   "cell_type": "code",
   "execution_count": 2,
   "id": "93a48093-48f0-46fb-ac7d-91710da67e5e",
   "metadata": {},
   "outputs": [],
   "source": [
    "# Datos de patentes de IA por país (ejemplo)\n",
    "data = {\n",
    "    'Pais': ['Estados Unidos', 'China', 'Japon', 'Corea del Sur', 'Alemania', 'Brasil', 'Mexico', 'India', 'Sudafrica', 'Singapur'],\n",
    "    'Patentes_IA_2022': [8900, 7600, 4200, 3100, 2700, 250, 120, 950, 80, 700],\n",
    "    'Grupo': ['Norte Global', 'Norte Global', 'Norte Global', 'Norte Global', 'Norte Global', 'Sur Global', 'Sur Global', 'Sur Global', 'Sur Global', 'Sur Global']\n",
    "}\n",
    "\n",
    "df_patentes = pd.DataFrame(data)"
   ]
  },
  {
   "cell_type": "code",
   "execution_count": 3,
   "id": "d3b17fc5-8871-4e2b-b98c-a9582c43b146",
   "metadata": {},
   "outputs": [
    {
     "name": "stdout",
     "output_type": "stream",
     "text": [
      "             Pais  Patentes_IA_2022         Grupo\n",
      "0  Estados Unidos              8900  Norte Global\n",
      "1           China              7600  Norte Global\n",
      "2           Japon              4200  Norte Global\n",
      "3   Corea del Sur              3100  Norte Global\n",
      "4        Alemania              2700  Norte Global\n"
     ]
    }
   ],
   "source": [
    "print(df_patentes.head())"
   ]
  },
  {
   "cell_type": "code",
   "execution_count": 4,
   "id": "8afca10a-af5f-4672-8a46-7f49eddd395e",
   "metadata": {},
   "outputs": [],
   "source": [
    "# Datos de PIB per capita (ejemplo)\n",
    "data_pib = {\n",
    "    'Pais': ['Estados Unidos', 'China', 'Japon', 'Corea del Sur', 'Alemania', 'Brasil', 'Mexico', 'India', 'Sudafrica', 'Singapur'],\n",
    "    'PIB_per_capita': [76300, 12900, 49100, 33500, 51300, 8100, 11500, 2600, 6700, 87800]\n",
    "}\n",
    "\n",
    "df_pib = pd.DataFrame(data_pib)\n"
   ]
  },
  {
   "cell_type": "code",
   "execution_count": 5,
   "id": "43b8ca16-6496-434a-b073-5c7081ccd0f1",
   "metadata": {},
   "outputs": [],
   "source": [
    "# Fusiona los dos DataFrames en uno solo\n",
    "df_completo = pd.merge(df_patentes, df_pib, on='Pais')"
   ]
  },
  {
   "cell_type": "code",
   "execution_count": 6,
   "id": "bf69ece7-bd42-41b7-9b48-d073c39ebd12",
   "metadata": {},
   "outputs": [
    {
     "name": "stdout",
     "output_type": "stream",
     "text": [
      "             Pais  Patentes_IA_2022         Grupo  PIB_per_capita\n",
      "0  Estados Unidos              8900  Norte Global           76300\n",
      "1           China              7600  Norte Global           12900\n",
      "2           Japon              4200  Norte Global           49100\n",
      "3   Corea del Sur              3100  Norte Global           33500\n",
      "4        Alemania              2700  Norte Global           51300\n",
      "5          Brasil               250    Sur Global            8100\n",
      "6          Mexico               120    Sur Global           11500\n",
      "7           India               950    Sur Global            2600\n",
      "8       Sudafrica                80    Sur Global            6700\n",
      "9        Singapur               700    Sur Global           87800\n"
     ]
    }
   ],
   "source": [
    "# Muestra el nuevo DataFrame\n",
    "print(df_completo)"
   ]
  },
  {
   "cell_type": "code",
   "execution_count": null,
   "id": "90a660be-4a97-482c-be9f-e7d34b2778c0",
   "metadata": {},
   "outputs": [],
   "source": []
  }
 ],
 "metadata": {
  "kernelspec": {
   "display_name": "Python 3 (ipykernel)",
   "language": "python",
   "name": "python3"
  },
  "language_info": {
   "codemirror_mode": {
    "name": "ipython",
    "version": 3
   },
   "file_extension": ".py",
   "mimetype": "text/x-python",
   "name": "python",
   "nbconvert_exporter": "python",
   "pygments_lexer": "ipython3",
   "version": "3.12.9"
  }
 },
 "nbformat": 4,
 "nbformat_minor": 5
}
