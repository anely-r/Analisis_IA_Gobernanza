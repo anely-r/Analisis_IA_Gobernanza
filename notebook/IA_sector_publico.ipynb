{
 "cells": [
  {
   "cell_type": "markdown",
   "id": "97c5cbdd-578a-4620-b769-6e3dc58b579b",
   "metadata": {},
   "source": [
    "# IA- Sector Público\n",
    "\n",
    "¿Existe una diferencia estadísticamente significativa en el índice de madurez de la IA en el gobierno (Government AI Readiness Index) entre países del Norte y Sur Global? Si es así, ¿qué tan fuerte es la correlación entre este índice de madurez y el índice de percepción de corrupción (Corruption Perceptions Index) o el índice de felicidad ciudadana (World Happiness Report)?"
   ]
  },
  {
   "cell_type": "code",
   "execution_count": 1,
   "id": "b1fc96fd-2089-435f-b1f5-530fbba06c8c",
   "metadata": {},
   "outputs": [],
   "source": [
    "# Importar librerías\n",
    "\n",
    "import pandas as pd\n",
    "import matplotlib.pyplot as plt\n",
    "import seaborn as sns\n",
    "from scipy import stats"
   ]
  },
  {
   "cell_type": "code",
   "execution_count": 2,
   "id": "0bf89891-b84a-41c0-bfd2-14019d783c01",
   "metadata": {},
   "outputs": [],
   "source": [
    "#1 Crear tabla manual: Índice de Madurez de IA para Gobiernos 2024\n",
    "data_ai = {\n",
    "    'Country': ['United States', 'Singapore', 'United Kingdom', 'Germany', 'Finland',\n",
    "        'Australia', 'United Arab Emirates', 'Switzerland', 'Japan', 'Brazil',\n",
    "        'Chile', 'Uruguay', 'Mexico', 'Colombia', 'Peru', 'Argentina',\n",
    "        'Ecuador', 'Venezuela'],\n",
    "    'AI_Readiness_Score': [87.03, 84.25, 78.88, 76.90, 76.48, 76.44, 75.66, 69.42, 68.42,\n",
    "        65.89, 63.19, 62.21, 54.43, 51.05, 46.10, 45.48, 44.93, 25.13]\n",
    "}\n",
    "\n",
    "df_ai = pd.DataFrame(data_ai)"
   ]
  },
  {
   "cell_type": "code",
   "execution_count": 3,
   "id": "7182637b-b78f-42c1-acb4-2712c5ef3a3c",
   "metadata": {},
   "outputs": [],
   "source": [
    "# 2. Cargar tus archivos CSV con la codificación correcta\n",
    "try:\n",
    "    # Agregamos el parámetro 'encoding'\n",
    "    df_happiness = pd.read_csv('WHR24_Data_Figure_2.1.csv', encoding='latin1')\n",
    "    df_corruption = pd.read_csv('CPI2024-Results-and-trends.csv', encoding='latin1', header = 2)\n",
    "except FileNotFoundError as e:\n",
    "    print(f\"Error: No se encontró el archivo. Asegúrate de que el nombre y la ubicación sean correctos.\\nDetalles del error: {e}\")\n",
    "except UnicodeDecodeError as e:\n",
    "    print(\"Error de decodificación. Intenta con otra codificación como 'iso-8859-1'.\")\n",
    "    print(f\"Detalles del error: {e}\")\n",
    "else:\n",
    "    # 3. Estandarizar los nombres de los países\n",
    "    country_mapping = {\n",
    "        'United States': 'United States of America',\n",
    "        'United Kingdom': 'United Kingdom of Great Britain and Northern Ireland'\n",
    "        # Añade más mapeos si encuentras otras inconsistencias\n",
    "    }\n",
    "    df_ai['Country'] = df_ai['Country'].replace(country_mapping)\n",
    "    df_happiness = df_happiness.rename(columns={'Country name': 'Country', 'Ladder score': 'Happiness_Score'})\n",
    "    df_corruption = df_corruption.rename(columns={'Country': 'Country', 'CPI 2024 Score': 'Corruption_Score'}) # Revisa si los nombres de las columnas son correctos"
   ]
  },
  {
   "cell_type": "code",
   "execution_count": 4,
   "id": "de6d6d55-d584-44c2-ad20-3386394c20a7",
   "metadata": {},
   "outputs": [],
   "source": [
    "# 3. Renombrar columnas para poder unir\n",
    "\n",
    "df_corruption = df_corruption.rename(columns={'Country / Territory': 'Country'}) "
   ]
  },
  {
   "cell_type": "code",
   "execution_count": 5,
   "id": "13e56a01-0432-4b9f-918a-2a78729ef1ea",
   "metadata": {},
   "outputs": [],
   "source": [
    "# 4. Unir los DataFrames\n",
    "\n",
    "df_final = pd.merge(df_ai, df_happiness[['Country', 'Happiness_Score']], on='Country', how='left')\n",
    "df_final = pd.merge(df_final, df_corruption[['Country', 'CPI 2024 score']], on='Country', how='left')"
   ]
  },
  {
   "cell_type": "code",
   "execution_count": 6,
   "id": "011215a4-420e-44a9-baea-75815e8e2d8f",
   "metadata": {},
   "outputs": [],
   "source": [
    "# 5. Clasificar los países en Norte y Sur Global según la UNCTAD\n",
    "\n",
    "global_north_countries = [\n",
    "        'United States of America', 'Singapore', 'United Kingdom of Great Britain and Northern Ireland',\n",
    "        'Germany', 'Finland', 'Australia', 'United Arab Emirates', 'Switzerland',\n",
    "        'Japan', 'South Korea', 'Israel', 'Canada', 'Denmark', 'Sweden', 'Norway',\n",
    "        'Iceland', 'New Zealand'\n",
    "    ]\n",
    "    \n",
    "def classify_region(country):\n",
    "    return 'Global North' if country in global_north_countries else 'Global South'\n",
    "    \n",
    "df_final['Global_Region'] = df_final['Country'].apply(classify_region)"
   ]
  },
  {
   "cell_type": "code",
   "execution_count": 7,
   "id": "0ad48a12-65da-452b-a393-a38784406062",
   "metadata": {
    "scrolled": true
   },
   "outputs": [
    {
     "data": {
      "text/html": [
       "<div>\n",
       "<style scoped>\n",
       "    .dataframe tbody tr th:only-of-type {\n",
       "        vertical-align: middle;\n",
       "    }\n",
       "\n",
       "    .dataframe tbody tr th {\n",
       "        vertical-align: top;\n",
       "    }\n",
       "\n",
       "    .dataframe thead th {\n",
       "        text-align: right;\n",
       "    }\n",
       "</style>\n",
       "<table border=\"1\" class=\"dataframe\">\n",
       "  <thead>\n",
       "    <tr style=\"text-align: right;\">\n",
       "      <th></th>\n",
       "      <th>Country</th>\n",
       "      <th>AI_Readiness_Score</th>\n",
       "      <th>Happiness_Score</th>\n",
       "      <th>CPI 2024 score</th>\n",
       "      <th>Global_Region</th>\n",
       "    </tr>\n",
       "  </thead>\n",
       "  <tbody>\n",
       "    <tr>\n",
       "      <th>0</th>\n",
       "      <td>United States of America</td>\n",
       "      <td>87.03</td>\n",
       "      <td>NaN</td>\n",
       "      <td>NaN</td>\n",
       "      <td>Global North</td>\n",
       "    </tr>\n",
       "    <tr>\n",
       "      <th>1</th>\n",
       "      <td>Singapore</td>\n",
       "      <td>84.25</td>\n",
       "      <td>6.523</td>\n",
       "      <td>84.0</td>\n",
       "      <td>Global North</td>\n",
       "    </tr>\n",
       "    <tr>\n",
       "      <th>2</th>\n",
       "      <td>United Kingdom of Great Britain and Northern I...</td>\n",
       "      <td>78.88</td>\n",
       "      <td>NaN</td>\n",
       "      <td>NaN</td>\n",
       "      <td>Global North</td>\n",
       "    </tr>\n",
       "    <tr>\n",
       "      <th>3</th>\n",
       "      <td>Germany</td>\n",
       "      <td>76.90</td>\n",
       "      <td>6.719</td>\n",
       "      <td>75.0</td>\n",
       "      <td>Global North</td>\n",
       "    </tr>\n",
       "    <tr>\n",
       "      <th>4</th>\n",
       "      <td>Finland</td>\n",
       "      <td>76.48</td>\n",
       "      <td>7.741</td>\n",
       "      <td>88.0</td>\n",
       "      <td>Global North</td>\n",
       "    </tr>\n",
       "    <tr>\n",
       "      <th>5</th>\n",
       "      <td>Australia</td>\n",
       "      <td>76.44</td>\n",
       "      <td>7.057</td>\n",
       "      <td>77.0</td>\n",
       "      <td>Global North</td>\n",
       "    </tr>\n",
       "    <tr>\n",
       "      <th>6</th>\n",
       "      <td>United Arab Emirates</td>\n",
       "      <td>75.66</td>\n",
       "      <td>6.733</td>\n",
       "      <td>68.0</td>\n",
       "      <td>Global North</td>\n",
       "    </tr>\n",
       "    <tr>\n",
       "      <th>7</th>\n",
       "      <td>Switzerland</td>\n",
       "      <td>69.42</td>\n",
       "      <td>7.060</td>\n",
       "      <td>81.0</td>\n",
       "      <td>Global North</td>\n",
       "    </tr>\n",
       "    <tr>\n",
       "      <th>8</th>\n",
       "      <td>Japan</td>\n",
       "      <td>68.42</td>\n",
       "      <td>6.060</td>\n",
       "      <td>71.0</td>\n",
       "      <td>Global North</td>\n",
       "    </tr>\n",
       "    <tr>\n",
       "      <th>9</th>\n",
       "      <td>Brazil</td>\n",
       "      <td>65.89</td>\n",
       "      <td>6.272</td>\n",
       "      <td>34.0</td>\n",
       "      <td>Global South</td>\n",
       "    </tr>\n",
       "    <tr>\n",
       "      <th>10</th>\n",
       "      <td>Chile</td>\n",
       "      <td>63.19</td>\n",
       "      <td>6.360</td>\n",
       "      <td>63.0</td>\n",
       "      <td>Global South</td>\n",
       "    </tr>\n",
       "    <tr>\n",
       "      <th>11</th>\n",
       "      <td>Uruguay</td>\n",
       "      <td>62.21</td>\n",
       "      <td>6.611</td>\n",
       "      <td>76.0</td>\n",
       "      <td>Global South</td>\n",
       "    </tr>\n",
       "    <tr>\n",
       "      <th>12</th>\n",
       "      <td>Mexico</td>\n",
       "      <td>54.43</td>\n",
       "      <td>6.678</td>\n",
       "      <td>26.0</td>\n",
       "      <td>Global South</td>\n",
       "    </tr>\n",
       "    <tr>\n",
       "      <th>13</th>\n",
       "      <td>Colombia</td>\n",
       "      <td>51.05</td>\n",
       "      <td>5.695</td>\n",
       "      <td>39.0</td>\n",
       "      <td>Global South</td>\n",
       "    </tr>\n",
       "    <tr>\n",
       "      <th>14</th>\n",
       "      <td>Peru</td>\n",
       "      <td>46.10</td>\n",
       "      <td>5.841</td>\n",
       "      <td>31.0</td>\n",
       "      <td>Global South</td>\n",
       "    </tr>\n",
       "    <tr>\n",
       "      <th>15</th>\n",
       "      <td>Argentina</td>\n",
       "      <td>45.48</td>\n",
       "      <td>6.188</td>\n",
       "      <td>37.0</td>\n",
       "      <td>Global South</td>\n",
       "    </tr>\n",
       "    <tr>\n",
       "      <th>16</th>\n",
       "      <td>Ecuador</td>\n",
       "      <td>44.93</td>\n",
       "      <td>5.725</td>\n",
       "      <td>32.0</td>\n",
       "      <td>Global South</td>\n",
       "    </tr>\n",
       "    <tr>\n",
       "      <th>17</th>\n",
       "      <td>Venezuela</td>\n",
       "      <td>25.13</td>\n",
       "      <td>5.607</td>\n",
       "      <td>10.0</td>\n",
       "      <td>Global South</td>\n",
       "    </tr>\n",
       "  </tbody>\n",
       "</table>\n",
       "</div>"
      ],
      "text/plain": [
       "                                              Country  AI_Readiness_Score  \\\n",
       "0                            United States of America               87.03   \n",
       "1                                           Singapore               84.25   \n",
       "2   United Kingdom of Great Britain and Northern I...               78.88   \n",
       "3                                             Germany               76.90   \n",
       "4                                             Finland               76.48   \n",
       "5                                           Australia               76.44   \n",
       "6                                United Arab Emirates               75.66   \n",
       "7                                         Switzerland               69.42   \n",
       "8                                               Japan               68.42   \n",
       "9                                              Brazil               65.89   \n",
       "10                                              Chile               63.19   \n",
       "11                                            Uruguay               62.21   \n",
       "12                                             Mexico               54.43   \n",
       "13                                           Colombia               51.05   \n",
       "14                                               Peru               46.10   \n",
       "15                                          Argentina               45.48   \n",
       "16                                            Ecuador               44.93   \n",
       "17                                          Venezuela               25.13   \n",
       "\n",
       "    Happiness_Score  CPI 2024 score Global_Region  \n",
       "0               NaN             NaN  Global North  \n",
       "1             6.523            84.0  Global North  \n",
       "2               NaN             NaN  Global North  \n",
       "3             6.719            75.0  Global North  \n",
       "4             7.741            88.0  Global North  \n",
       "5             7.057            77.0  Global North  \n",
       "6             6.733            68.0  Global North  \n",
       "7             7.060            81.0  Global North  \n",
       "8             6.060            71.0  Global North  \n",
       "9             6.272            34.0  Global South  \n",
       "10            6.360            63.0  Global South  \n",
       "11            6.611            76.0  Global South  \n",
       "12            6.678            26.0  Global South  \n",
       "13            5.695            39.0  Global South  \n",
       "14            5.841            31.0  Global South  \n",
       "15            6.188            37.0  Global South  \n",
       "16            5.725            32.0  Global South  \n",
       "17            5.607            10.0  Global South  "
      ]
     },
     "execution_count": 7,
     "metadata": {},
     "output_type": "execute_result"
    }
   ],
   "source": [
    "df_final"
   ]
  },
  {
   "cell_type": "code",
   "execution_count": 8,
   "id": "07f053f0-c336-47eb-8b79-8be0aefe6107",
   "metadata": {},
   "outputs": [
    {
     "name": "stdout",
     "output_type": "stream",
     "text": [
      "     Country  AI_Readiness_Score  Happiness_Score  CPI 2024 score  \\\n",
      "0        USA               87.03            6.725            65.0   \n",
      "1  Singapore               84.25            6.523            84.0   \n",
      "2         UK               78.88            6.749            71.0   \n",
      "3    Germany               76.90            6.719            75.0   \n",
      "4    Finland               76.48            7.741            88.0   \n",
      "\n",
      "  Global_Region  \n",
      "0  Global North  \n",
      "1  Global North  \n",
      "2  Global North  \n",
      "3  Global North  \n",
      "4  Global North  \n"
     ]
    }
   ],
   "source": [
    "## Añadir valores faltantes\n",
    "\n",
    "# 1. Rellenar los valores NaN para United Kingdom\n",
    "df_final.loc[df_final['Country'] == 'United Kingdom of Great Britain and Northern Ireland', 'Happiness_Score'] = 6.749\n",
    "df_final.loc[df_final['Country'] == 'United Kingdom of Great Britain and Northern Ireland', 'CPI 2024 score'] = 71\n",
    "\n",
    "# 2. Rellenar los valores NaN para United States of America\n",
    "df_final.loc[df_final['Country'] == 'United States of America', 'Happiness_Score'] = 6.725\n",
    "df_final.loc[df_final['Country'] == 'United States of America', 'CPI 2024 score'] = 65\n",
    "\n",
    "# 3. Cambiar nombres para visualizaciones \n",
    "\n",
    "df_final.loc[df_final['Country'] == 'United Kingdom of Great Britain and Northern Ireland', 'Country'] = 'UK'\n",
    "df_final.loc[df_final['Country'] == 'United Arab Emirates', 'Country'] = 'UAE'\n",
    "df_final.loc[df_final['Country'] == 'United States of America', 'Country'] = 'USA'\n",
    "\n",
    "# Muestra el DataFrame actualizado para verificar el cambio\n",
    "print(df_final.head())"
   ]
  },
  {
   "cell_type": "code",
   "execution_count": 9,
   "id": "37426b9e-f16e-4061-a5f2-7abee8d3fc46",
   "metadata": {},
   "outputs": [
    {
     "data": {
      "text/html": [
       "<div>\n",
       "<style scoped>\n",
       "    .dataframe tbody tr th:only-of-type {\n",
       "        vertical-align: middle;\n",
       "    }\n",
       "\n",
       "    .dataframe tbody tr th {\n",
       "        vertical-align: top;\n",
       "    }\n",
       "\n",
       "    .dataframe thead th {\n",
       "        text-align: right;\n",
       "    }\n",
       "</style>\n",
       "<table border=\"1\" class=\"dataframe\">\n",
       "  <thead>\n",
       "    <tr style=\"text-align: right;\">\n",
       "      <th></th>\n",
       "      <th>Country</th>\n",
       "      <th>AI_Readiness_Score</th>\n",
       "      <th>Happiness_Score</th>\n",
       "      <th>CPI 2024 score</th>\n",
       "      <th>Global_Region</th>\n",
       "    </tr>\n",
       "  </thead>\n",
       "  <tbody>\n",
       "    <tr>\n",
       "      <th>0</th>\n",
       "      <td>USA</td>\n",
       "      <td>87.03</td>\n",
       "      <td>6.725</td>\n",
       "      <td>65.0</td>\n",
       "      <td>Global North</td>\n",
       "    </tr>\n",
       "    <tr>\n",
       "      <th>1</th>\n",
       "      <td>Singapore</td>\n",
       "      <td>84.25</td>\n",
       "      <td>6.523</td>\n",
       "      <td>84.0</td>\n",
       "      <td>Global North</td>\n",
       "    </tr>\n",
       "    <tr>\n",
       "      <th>2</th>\n",
       "      <td>UK</td>\n",
       "      <td>78.88</td>\n",
       "      <td>6.749</td>\n",
       "      <td>71.0</td>\n",
       "      <td>Global North</td>\n",
       "    </tr>\n",
       "    <tr>\n",
       "      <th>3</th>\n",
       "      <td>Germany</td>\n",
       "      <td>76.90</td>\n",
       "      <td>6.719</td>\n",
       "      <td>75.0</td>\n",
       "      <td>Global North</td>\n",
       "    </tr>\n",
       "    <tr>\n",
       "      <th>4</th>\n",
       "      <td>Finland</td>\n",
       "      <td>76.48</td>\n",
       "      <td>7.741</td>\n",
       "      <td>88.0</td>\n",
       "      <td>Global North</td>\n",
       "    </tr>\n",
       "    <tr>\n",
       "      <th>5</th>\n",
       "      <td>Australia</td>\n",
       "      <td>76.44</td>\n",
       "      <td>7.057</td>\n",
       "      <td>77.0</td>\n",
       "      <td>Global North</td>\n",
       "    </tr>\n",
       "    <tr>\n",
       "      <th>6</th>\n",
       "      <td>UAE</td>\n",
       "      <td>75.66</td>\n",
       "      <td>6.733</td>\n",
       "      <td>68.0</td>\n",
       "      <td>Global North</td>\n",
       "    </tr>\n",
       "    <tr>\n",
       "      <th>7</th>\n",
       "      <td>Switzerland</td>\n",
       "      <td>69.42</td>\n",
       "      <td>7.060</td>\n",
       "      <td>81.0</td>\n",
       "      <td>Global North</td>\n",
       "    </tr>\n",
       "    <tr>\n",
       "      <th>8</th>\n",
       "      <td>Japan</td>\n",
       "      <td>68.42</td>\n",
       "      <td>6.060</td>\n",
       "      <td>71.0</td>\n",
       "      <td>Global North</td>\n",
       "    </tr>\n",
       "    <tr>\n",
       "      <th>9</th>\n",
       "      <td>Brazil</td>\n",
       "      <td>65.89</td>\n",
       "      <td>6.272</td>\n",
       "      <td>34.0</td>\n",
       "      <td>Global South</td>\n",
       "    </tr>\n",
       "    <tr>\n",
       "      <th>10</th>\n",
       "      <td>Chile</td>\n",
       "      <td>63.19</td>\n",
       "      <td>6.360</td>\n",
       "      <td>63.0</td>\n",
       "      <td>Global South</td>\n",
       "    </tr>\n",
       "    <tr>\n",
       "      <th>11</th>\n",
       "      <td>Uruguay</td>\n",
       "      <td>62.21</td>\n",
       "      <td>6.611</td>\n",
       "      <td>76.0</td>\n",
       "      <td>Global South</td>\n",
       "    </tr>\n",
       "    <tr>\n",
       "      <th>12</th>\n",
       "      <td>Mexico</td>\n",
       "      <td>54.43</td>\n",
       "      <td>6.678</td>\n",
       "      <td>26.0</td>\n",
       "      <td>Global South</td>\n",
       "    </tr>\n",
       "    <tr>\n",
       "      <th>13</th>\n",
       "      <td>Colombia</td>\n",
       "      <td>51.05</td>\n",
       "      <td>5.695</td>\n",
       "      <td>39.0</td>\n",
       "      <td>Global South</td>\n",
       "    </tr>\n",
       "    <tr>\n",
       "      <th>14</th>\n",
       "      <td>Peru</td>\n",
       "      <td>46.10</td>\n",
       "      <td>5.841</td>\n",
       "      <td>31.0</td>\n",
       "      <td>Global South</td>\n",
       "    </tr>\n",
       "    <tr>\n",
       "      <th>15</th>\n",
       "      <td>Argentina</td>\n",
       "      <td>45.48</td>\n",
       "      <td>6.188</td>\n",
       "      <td>37.0</td>\n",
       "      <td>Global South</td>\n",
       "    </tr>\n",
       "    <tr>\n",
       "      <th>16</th>\n",
       "      <td>Ecuador</td>\n",
       "      <td>44.93</td>\n",
       "      <td>5.725</td>\n",
       "      <td>32.0</td>\n",
       "      <td>Global South</td>\n",
       "    </tr>\n",
       "    <tr>\n",
       "      <th>17</th>\n",
       "      <td>Venezuela</td>\n",
       "      <td>25.13</td>\n",
       "      <td>5.607</td>\n",
       "      <td>10.0</td>\n",
       "      <td>Global South</td>\n",
       "    </tr>\n",
       "  </tbody>\n",
       "</table>\n",
       "</div>"
      ],
      "text/plain": [
       "        Country  AI_Readiness_Score  Happiness_Score  CPI 2024 score  \\\n",
       "0           USA               87.03            6.725            65.0   \n",
       "1     Singapore               84.25            6.523            84.0   \n",
       "2            UK               78.88            6.749            71.0   \n",
       "3       Germany               76.90            6.719            75.0   \n",
       "4       Finland               76.48            7.741            88.0   \n",
       "5     Australia               76.44            7.057            77.0   \n",
       "6           UAE               75.66            6.733            68.0   \n",
       "7   Switzerland               69.42            7.060            81.0   \n",
       "8         Japan               68.42            6.060            71.0   \n",
       "9        Brazil               65.89            6.272            34.0   \n",
       "10        Chile               63.19            6.360            63.0   \n",
       "11      Uruguay               62.21            6.611            76.0   \n",
       "12       Mexico               54.43            6.678            26.0   \n",
       "13     Colombia               51.05            5.695            39.0   \n",
       "14         Peru               46.10            5.841            31.0   \n",
       "15    Argentina               45.48            6.188            37.0   \n",
       "16      Ecuador               44.93            5.725            32.0   \n",
       "17    Venezuela               25.13            5.607            10.0   \n",
       "\n",
       "   Global_Region  \n",
       "0   Global North  \n",
       "1   Global North  \n",
       "2   Global North  \n",
       "3   Global North  \n",
       "4   Global North  \n",
       "5   Global North  \n",
       "6   Global North  \n",
       "7   Global North  \n",
       "8   Global North  \n",
       "9   Global South  \n",
       "10  Global South  \n",
       "11  Global South  \n",
       "12  Global South  \n",
       "13  Global South  \n",
       "14  Global South  \n",
       "15  Global South  \n",
       "16  Global South  \n",
       "17  Global South  "
      ]
     },
     "execution_count": 9,
     "metadata": {},
     "output_type": "execute_result"
    }
   ],
   "source": [
    "df_final"
   ]
  },
  {
   "cell_type": "markdown",
   "id": "635de941-51f3-49c6-896f-bcc33e28b64c",
   "metadata": {},
   "source": [
    "## Gráfico de Barras: Madurez de la IA por Región"
   ]
  },
  {
   "cell_type": "code",
   "execution_count": 10,
   "id": "351077ef-4672-4fc9-94f0-291750aef175",
   "metadata": {},
   "outputs": [
    {
     "name": "stderr",
     "output_type": "stream",
     "text": [
      "/var/folders/8g/_fsj8tks2pbgmmlhrj88f3bh0000gn/T/ipykernel_2725/4131911777.py:14: UserWarning: No artists with labels found to put in legend.  Note that artists whose label start with an underscore are ignored when legend() is called with no argument.\n",
      "  plt.legend(title='Región Global')\n"
     ]
    },
    {
     "data": {
      "image/png": "[encoded data removed]",
      "text/plain": [
       "<Figure size 1000x600 with 1 Axes>"
      ]
     },
     "metadata": {},
     "output_type": "display_data"
    }
   ],
   "source": [
    "plt.figure(figsize=(10, 6))\n",
    "sns.barplot(\n",
    "    x='Global_Region',\n",
    "    y='AI_Readiness_Score',\n",
    "    data=df_final,\n",
    "    errorbar=None,\n",
    "    hue='Global_Region', # Usar hue para el color\n",
    "    palette='viridis'\n",
    ")\n",
    "\n",
    "plt.title('Madurez de la IA por Región (Promedio)', fontsize=16)\n",
    "plt.xlabel('Región Global', fontsize=12)\n",
    "plt.ylabel('Puntuación de Madurez de la IA', fontsize=12)\n",
    "plt.legend(title='Región Global')\n",
    "plt.grid(axis='y')\n",
    "plt.show()"
   ]
  },
  {
   "cell_type": "markdown",
   "id": "3756301a-0d4b-407b-a8cd-c787a54d4cee",
   "metadata": {},
   "source": [
    "## Gráfico de Dispersión: Felicidad vs. Corrupción"
   ]
  },
  {
   "cell_type": "code",
   "execution_count": 11,
   "id": "2bd36ce3-341e-4dc0-b797-434a1b2ab295",
   "metadata": {},
   "outputs": [
    {
     "data": {
      "image/png": "[encoded data removed]",
      "text/plain": [
       "<Figure size 1200x800 with 1 Axes>"
      ]
     },
     "metadata": {},
     "output_type": "display_data"
    }
   ],
   "source": [
    "plt.figure(figsize=(12, 8))\n",
    "sns.scatterplot(\n",
    "    x='CPI 2024 score',\n",
    "    y='Happiness_Score',\n",
    "    data=df_final,\n",
    "    hue='Global_Region',\n",
    "    size='AI_Readiness_Score',\n",
    "    sizes=(50, 500),\n",
    "    palette='magma'\n",
    ")\n",
    "\n",
    "for i, row in df_final.iterrows():\n",
    "    plt.text(\n",
    "        row['CPI 2024 score'] + 1.5,\n",
    "        row['Happiness_Score']+ 0.05,\n",
    "        row['Country'],\n",
    "        ha='left',\n",
    "        va='center',\n",
    "        fontsize=8\n",
    "    )\n",
    "\n",
    "plt.title('Corrupción vs. Felicidad, con Madurez de la IA', fontsize=16)\n",
    "plt.xlabel('Índice de Percepción de Corrupción (CPI)', fontsize=12)\n",
    "plt.ylabel('Puntuación de Felicidad', fontsize=12)\n",
    "plt.legend(title='Región Global', bbox_to_anchor=(1.05, 1), loc='upper left')\n",
    "plt.grid(True)\n",
    "plt.tight_layout()\n",
    "plt.show()"
   ]
  },
  {
   "cell_type": "markdown",
   "id": "e8361fe6-dbf7-4ec5-beda-bbcca3ff74af",
   "metadata": {},
   "source": [
    "## Análisis de los Gráficos de Datos\n",
    "\n",
    "- Diferencia entre el Norte y el Sur Global: Has notado correctamente que el gráfico de barras muestra una diferencia clara pero quizás no tan dramática como se esperaba a primera vista. Tu intuición es acertada: esto se debe a que es un promedio. Al promediar los puntajes de madurez de la IA, los valores atípicos se mitigan. Sin embargo, cuando observas el gráfico de dispersión, la separación entre ambos grupos es mucho más evidente y te da una mejor idea de la brecha real.\n",
    "\n",
    "- Relación entre Felicidad y Corrupción: Tu principal hallazgo es muy perspicaz. Has identificado la tendencia general de que una menor percepción de la corrupción (mayores puntuaciones en el CPI) se correlaciona con una mayor felicidad. Este es un patrón esperado a nivel global. Sin embargo, tu análisis de los casos de México y Japón es lo que hace que tu trabajo sea valioso. Estos países demuestran que la relación no es una regla estricta y que otros factores (culturales, económicos, sociales) influyen en la felicidad de los ciudadanos de formas inesperadas.\n",
    "\n",
    "- La Importancia de Comprender los Datos: Tu observación sobre la escala del Índice de Percepción de Corrupción (CPI) es fundamental. Tienes toda la razón: un puntaje más alto en el CPI significa una menor percepción de corrupción. Esto es un detalle técnico crucial que podría confundir a una persona que solo vea el gráfico. El hecho de que hayas investigado la fuente para entender el dato te eleva de un simple visualizador de datos a un verdadero analista de datos."
   ]
  },
  {
   "cell_type": "markdown",
   "id": "dcbb8597-fd6d-43eb-9a3b-04f516e83d73",
   "metadata": {},
   "source": [
    "## Análisis de Correlación y Prueba de Hipótesis\n",
    "\n",
    "1. Correlación entre la IA, la Corrupción y la Felicidad: El coeficiente de correlación de Pearson nos dará un número entre -1 y 1. Un valor cercano a 1 indica una fuerte relación positiva, mientras que un valor cercano a -1 indica una fuerte relación negativa. Un valor cercano a 0 indica que no hay relación.\n",
    "2. Prueba T de Student para la Madurez de la IA: La prueba T nos dirá si la diferencia promedio entre los puntajes de madurez de la IA del Norte y del Sur Global es estadísticamente significativa. Un valor p menor a 0.05 nos dirá que la diferencia no es aleatoria."
   ]
  },
  {
   "cell_type": "code",
   "execution_count": 12,
   "id": "0832546a-1daa-4f99-a400-f5e99f22ed1a",
   "metadata": {},
   "outputs": [
    {
     "name": "stdout",
     "output_type": "stream",
     "text": [
      "--- Coeficientes de Correlación ---\n",
      "Correlación entre la Madurez de la IA y la Percepción de Corrupción: 0.85\n",
      "Correlación entre la Madurez de la IA y la Felicidad: 0.73\n",
      "\n",
      "--- Prueba T de Student ---\n",
      "Estadístico T: 5.61\n",
      "Valor P: 0.000\n"
     ]
    }
   ],
   "source": [
    "# Calcula las correlaciones\n",
    "corr_ia_corrupcion = df_final['AI_Readiness_Score'].corr(df_final['CPI 2024 score'])\n",
    "corr_ia_felicidad = df_final['AI_Readiness_Score'].corr(df_final['Happiness_Score'])\n",
    "\n",
    "print(\"--- Coeficientes de Correlación ---\")\n",
    "print(f\"Correlación entre la Madurez de la IA y la Percepción de Corrupción: {corr_ia_corrupcion:.2f}\")\n",
    "print(f\"Correlación entre la Madurez de la IA y la Felicidad: {corr_ia_felicidad:.2f}\")\n",
    "\n",
    "print(\"\\n--- Prueba T de Student ---\")\n",
    "# Separa los datos en dos grupos\n",
    "df_norte = df_final[df_final['Global_Region'] == 'Global North']['AI_Readiness_Score']\n",
    "df_sur = df_final[df_final['Global_Region'] == 'Global South']['AI_Readiness_Score']\n",
    "\n",
    "# Realiza la prueba T de Student\n",
    "t_statistic, p_value = stats.ttest_ind(df_norte, df_sur, equal_var=False)\n",
    "\n",
    "print(f\"Estadístico T: {t_statistic:.2f}\")\n",
    "print(f\"Valor P: {p_value:.3f}\")"
   ]
  },
  {
   "cell_type": "markdown",
   "id": "6f71c9e4-cc4e-4dab-9ae6-219f30ccd3c8",
   "metadata": {},
   "source": [
    "## Conclusión Correlaciones\n",
    "\n",
    "- Correlación Fuerte y Positiva: El coeficiente de correlación de 0.85 entre la madurez de la IA y la percepción de corrupción es un número muy alto. Esto significa que existe una fuerte relación entre una mayor preparación en IA de un gobierno y una menor percepción de la corrupción (mayores puntajes en el CPI). De la misma manera, el coeficiente de 0.73 con la felicidad indica una relación positiva pero moderada. Esto confirma tu hipótesis de que la confianza en el gobierno y la transparencia, reflejada en el índice de corrupción, están más directamente ligadas a la adopción de la IA que a la felicidad ciudadana.\n",
    "- Diferencia Estadísticamente Significativa: El valor P de 0.000 de la prueba T es el resultado más importante. Un valor P tan bajo es mucho menor al umbral de 0.05. Esto nos permite concluir que la diferencia en la madurez de la IA entre los países del Norte Global y del Sur Global no es aleatoria. Es una diferencia real y estadísticamente significativa.\n",
    "\n",
    "Finalmente, se ha demostrado que, al menos en este conjunto de datos, la brecha en la madurez de la IA entre el Norte y el Sur Global es un fenómeno real. Además, has encontrado que esta madurez está fuertemente relacionada con la transparencia y la falta de corrupción percibida en el gobierno. Un país que ya tiene una base de gobernanza sólida y transparente parece estar mejor posicionado para adoptar e implementar la IA de manera efectiva en el sector público."
   ]
  },
  {
   "cell_type": "markdown",
   "id": "f81557ee-903c-4e2a-92a9-4df8a1beb2d1",
   "metadata": {},
   "source": [
    "## Análisis de los Casos Atípicos "
   ]
  },
  {
   "cell_type": "code",
   "execution_count": 13,
   "id": "90e489d6-1434-4238-952a-728459d1522d",
   "metadata": {},
   "outputs": [
    {
     "name": "stdout",
     "output_type": "stream",
     "text": [
      "Tabla de Comparación:\n",
      "   Country  AI_Readiness_Score  Happiness_Score  CPI 2024 score Global_Region\n",
      "0      USA               87.03            6.725            65.0  Global North\n",
      "8    Japan               68.42            6.060            71.0  Global North\n",
      "9   Brazil               65.89            6.272            34.0  Global South\n",
      "12  Mexico               54.43            6.678            26.0  Global South\n"
     ]
    }
   ],
   "source": [
    "# Filtra los datos para los países de interés\n",
    "paises_interes = ['Mexico', 'Japan', 'Brazil', 'United Kingdom', 'USA']\n",
    "df_comparacion = df_final[df_final['Country'].isin(paises_interes)].copy()\n",
    "\n",
    "# Muestra el DataFrame de comparación\n",
    "print(\"Tabla de Comparación:\")\n",
    "print(df_comparacion)"
   ]
  },
  {
   "cell_type": "code",
   "execution_count": 14,
   "id": "c9aa8cc4-6049-4a57-8e59-b386b261d999",
   "metadata": {},
   "outputs": [
    {
     "data": {
      "image/png": "[encoded data removed]",
      "text/plain": [
       "<Figure size 1400x800 with 1 Axes>"
      ]
     },
     "metadata": {},
     "output_type": "display_data"
    }
   ],
   "source": [
    "# Reestructurar el DataFrame para la visualización\n",
    "df_comparacion_melted = df_comparacion.melt(id_vars=['Country'],\n",
    "                                            value_vars=['AI_Readiness_Score', 'Happiness_Score', 'CPI 2024 score'],\n",
    "                                            var_name='Variable',\n",
    "                                            value_name='Score')\n",
    "\n",
    "plt.figure(figsize=(14, 8))\n",
    "sns.barplot(\n",
    "    x='Country',\n",
    "    y='Score',\n",
    "    hue='Variable',\n",
    "    data=df_comparacion_melted,\n",
    "    palette='viridis'\n",
    ")\n",
    "\n",
    "plt.title('Comparación de Puntuaciones Clave por País', fontsize=16)\n",
    "plt.xlabel('País', fontsize=12)\n",
    "plt.ylabel('Puntuación', fontsize=12)\n",
    "plt.legend(title='Índice', loc='upper right')\n",
    "plt.grid(axis='y')\n",
    "plt.xticks(rotation=45)\n",
    "plt.tight_layout()\n",
    "plt.show()"
   ]
  },
  {
   "cell_type": "markdown",
   "id": "502152d7-6d93-426c-b7d7-80795a7248ba",
   "metadata": {},
   "source": [
    "## Conclusiones Casos Atíícos\n",
    "\n",
    "México: El gráfico muestra claramente que México está rezagado en los tres indicadores principales, lo que ilustra el desafío que enfrentan muchos países del Sur Global para invertir en tecnologías como la IA, incluso con una población grande y activa.\n",
    "\n",
    "Japón vs. Brasil: Este es un insight muy valioso. El hecho de que Japón y Brasil tengan una puntuación de madurez de la IA similar, a pesar de sus vastas diferencias en la percepción de corrupción, es una prueba de que el desarrollo tecnológico no siempre está directamente ligado a los niveles de gobernanza. Esto refuerza la idea de que otros factores, como la inversión estratégica o la infraestructura existente, pueden ser más determinantes.\n",
    "\n",
    "Estados Unidos: Como señalaste, Estados Unidos sobresale en la madurez de la IA, lo cual es coherente con su posición como líder tecnológico. Sin embargo, tu observación sobre la similitud en las puntuaciones de felicidad es muy astuta y es un hallazgo clave. A pesar de las grandes diferencias en tecnología y gobernanza, la felicidad es sorprendentemente similar en todos los países, lo que nos hace cuestionar los factores que realmente contribuyen a la felicidad de una nación."
   ]
  },
  {
   "cell_type": "markdown",
   "id": "a357217b-0ed9-410b-8b0e-1dd69807f8eb",
   "metadata": {},
   "source": [
    "## Predicción de la Madurez de la IA "
   ]
  },
  {
   "cell_type": "code",
   "execution_count": 15,
   "id": "d4a8af67-ec0c-4e18-bd5d-343b49249aff",
   "metadata": {},
   "outputs": [
    {
     "name": "stdout",
     "output_type": "stream",
     "text": [
      "Requirement already satisfied: scikit-learn in /Library/Frameworks/Python.framework/Versions/3.12/lib/python3.12/site-packages (1.7.2)\n",
      "Requirement already satisfied: numpy>=1.22.0 in /Library/Frameworks/Python.framework/Versions/3.12/lib/python3.12/site-packages (from scikit-learn) (2.3.1)\n",
      "Requirement already satisfied: scipy>=1.8.0 in /Users/anelygro/Library/Python/3.12/lib/python/site-packages (from scikit-learn) (1.16.2)\n",
      "Requirement already satisfied: joblib>=1.2.0 in /Library/Frameworks/Python.framework/Versions/3.12/lib/python3.12/site-packages (from scikit-learn) (1.5.2)\n",
      "Requirement already satisfied: threadpoolctl>=3.1.0 in /Library/Frameworks/Python.framework/Versions/3.12/lib/python3.12/site-packages (from scikit-learn) (3.6.0)\n",
      "Note: you may need to restart the kernel to use updated packages.\n"
     ]
    }
   ],
   "source": [
    "%pip install scikit-learn"
   ]
  },
  {
   "cell_type": "code",
   "execution_count": 16,
   "id": "6002d05a-8ab4-45dc-9f3a-20ad1fac9509",
   "metadata": {},
   "outputs": [
    {
     "name": "stdout",
     "output_type": "stream",
     "text": [
      "La ecuación de la línea de regresión es: y = 0.59x + 30.31\n",
      "Pendiente (m): 0.59\n",
      "Punto de Corte (b): 30.31\n"
     ]
    }
   ],
   "source": [
    "import numpy as np\n",
    "from sklearn.linear_model import LinearRegression\n",
    "\n",
    "# Definir las variables\n",
    "X = df_final[['CPI 2024 score']]  # Variable predictora (índice de corrupción)\n",
    "y = df_final['AI_Readiness_Score']  # Variable objetivo (madurez de la IA)\n",
    "\n",
    "# Crear el modelo de regresión lineal\n",
    "modelo = LinearRegression()\n",
    "\n",
    "# Entrenar el modelo\n",
    "modelo.fit(X, y)\n",
    "\n",
    "# Obtener los coeficientes\n",
    "pendiente = modelo.coef_[0]\n",
    "punto_corte = modelo.intercept_\n",
    "\n",
    "print(f\"La ecuación de la línea de regresión es: y = {pendiente:.2f}x + {punto_corte:.2f}\")\n",
    "print(f\"Pendiente (m): {pendiente:.2f}\")\n",
    "print(f\"Punto de Corte (b): {punto_corte:.2f}\")"
   ]
  },
  {
   "cell_type": "markdown",
   "id": "038575b2-45ac-4e7a-af57-4efda063d92b",
   "metadata": {},
   "source": [
    "## Usar modelo para predecir la madurez de la IA de un país del que solo conoces su puntuación de corrupción.\n",
    "\n",
    "Imagina que quieres predecir la madurez de la IA de un país con una puntuación de corrupción de 45. Solo tienes que usar la ecuación:\n",
    "\n",
    "Madurez_IA_predicha = 0.59 * 45 + 30.31\n",
    "El resultado sería aproximadamente 56.86. \n",
    "Esto te permite estimar la madurez de la IA de cualquier país con solo un dato, demostrando el poder de tu modelo predictivo."
   ]
  },
  {
   "cell_type": "markdown",
   "id": "6a4abee8-8f3b-4b8b-bff2-b4dc0ba2b24d",
   "metadata": {},
   "source": [
    "# CONCLUSIÓN FINAL\n",
    "\n",
    "A lo largo de nuestro análisis, hemos pasado de una observación inicial sobre la gobernanza de las ciudades a un estudio profundo de las brechas tecnológicas a nivel global. Los hallazgos más importantes de este viaje de análisis de datos son:\n",
    "\n",
    "1. La Brecha Tecnológica y Económica: Existe una clara y significativa diferencia entre el Norte Global y el Sur Global en cuanto a la adopción y el desarrollo de tecnologías clave. Nuestro análisis mostró que los países del Norte Global no solo tienen un promedio de madurez de IA más alto, sino que esta diferencia es estadísticamente significativa (p<0.05), lo que demuestra que no es un fenómeno aleatorio.\n",
    "\n",
    "2. La Gobernanza como Pilar de la Innovación: La relación entre la gobernanza y la tecnología es profunda. Encontramos una fuerte correlación positiva entre la madurez de la IA y la percepción de la corrupción (r=0.85). Esto sugiere que los países con una gobernanza más transparente y menos corrupción están mejor preparados para adoptar tecnologías complejas como la IA en el sector público.\n",
    "\n",
    "3. El Factor Estratégico y las Sorpresas: Nuestro análisis de regresión lineal demostró que la madurez de la IA puede ser predicha por el índice de corrupción de un país, con una relación de 0.59. Sin embargo, los casos atípicos como Japón y Brasil nos recuerdan que la tecnología no es el único factor en juego. Ambos países tienen puntuaciones de madurez de la IA similares, a pesar de sus grandes diferencias en los índices de corrupción, lo que indica que factores estratégicos y la inversión en I+D pueden ser determinantes.\n",
    "\n",
    "4. La Percepción de la Felicidad: Un hallazgo interesante fue que, a pesar de las grandes brechas tecnológicas y de gobernanza, los niveles de felicidad entre los países del Norte y del Sur Global son mucho más parecidos. Esto sugiere que la felicidad es una métrica compleja que se ve influenciada por factores más allá de la tecnología y la corrupción.\n",
    "\n",
    "En resumen, el desarrollo tecnológico no es solo una cuestión de riqueza, sino de inversión estratégica y gobernanza transparente. La implementación exitosa de la IA en el sector público es un reflejo de un ecosistema que valora la eficiencia y la innovación."
   ]
  },
  {
   "cell_type": "markdown",
   "id": "e36ec7e0-2b70-4cc9-8407-8f5a8619bc06",
   "metadata": {},
   "source": [
    "## Fuentes de Datos para la Idea 2:"
   ]
  },
  {
   "cell_type": "markdown",
   "id": "5add8ea6-3e89-4e3d-aac8-5fc66cd2ae78",
   "metadata": {},
   "source": [
    "- Adopción de IA en el Sector Público\n",
    "Índice de Madurez de la IA en el Gobierno (Government AI Readiness Index):\n",
    "\n",
    "Fuente: Oxford Insights.\n",
    "\n",
    "Enlace: Government AI Readiness Index 2024\n",
    "\n",
    "Descripción: En este enlace encontrarás el reporte más reciente. Busca la sección de \"Download Reports\" para descargar el archivo con los datos completos por país.\n",
    "\n",
    "- Índice de Felicidad Ciudadana (World Happiness Report):\n",
    "\n",
    "Fuente: The World Happiness Report.\n",
    "\n",
    "Enlace: World Happiness Report 2024\n",
    "\n",
    "Descripción: En la página del reporte de 2024, busca la sección \"Appendices & Data\" para acceder y descargar los datos. El reporte de 2024 también incluye datos históricos que pueden ser útiles.\n",
    "\n",
    "- Índice de Percepción de la Corrupción (Corruption Perceptions Index):\n",
    "\n",
    "Fuente: Transparency International.\n",
    "\n",
    "Enlace: 2023 Corruption Perceptions Index: Explore the results\n",
    "\n",
    "Descripción: En esta página, puedes explorar los resultados del índice de 2023. La página tiene un mapa interactivo y también un enlace para descargar los datos completos en un archivo de Excel, que será más fácil de usar para tu análisis.\n",
    "\n"
   ]
  },
  {
   "cell_type": "markdown",
   "id": "48d35383-75a0-4b36-b2ff-f09eac72b7d3",
   "metadata": {},
   "source": [
    "### Descargar datos para Tableau"
   ]
  },
  {
   "cell_type": "code",
   "execution_count": 18,
   "id": "ce672c27-22bf-4037-82b1-b7ef1bcb1ab5",
   "metadata": {},
   "outputs": [
    {
     "name": "stdout",
     "output_type": "stream",
     "text": [
      "¡Archivo exportado con éxito!\n",
      "Busca 'Proyecto_IA_Global.csv' en tu carpeta de trabajo.\n"
     ]
    }
   ],
   "source": [
    "df_final.to_csv('Proyecto_IA_Global.csv', index=False)\n",
    "\n",
    "print(\"¡Archivo exportado con éxito!\")\n",
    "print(\"Busca 'Proyecto_IA_Global.csv' en tu carpeta de trabajo.\")"
   ]
  },
  {
   "cell_type": "code",
   "execution_count": null,
   "id": "c858e498-c425-4804-a189-ef72f0e96631",
   "metadata": {},
   "outputs": [],
   "source": []
  }
 ],
 "metadata": {
  "kernelspec": {
   "display_name": "Python 3 (ipykernel)",
   "language": "python",
   "name": "python3"
  },
  "language_info": {
   "codemirror_mode": {
    "name": "ipython",
    "version": 3
   },
   "file_extension": ".py",
   "mimetype": "text/x-python",
   "name": "python",
   "nbconvert_exporter": "python",
   "pygments_lexer": "ipython3",
   "version": "3.12.9"
  }
 },
 "nbformat": 4,
 "nbformat_minor": 5
}
